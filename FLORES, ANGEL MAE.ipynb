{
 "cells": [
  {
   "cell_type": "code",
   "execution_count": 1,
   "id": "08cbbb55-56a5-44a8-9e18-cab35074346e",
   "metadata": {},
   "outputs": [
    {
     "name": "stdout",
     "output_type": "stream",
     "text": [
      "(2, 3)\n",
      "2\n",
      "first_matrix\n",
      "[ 1 13  6]\n",
      "[14  1 12]\n"
     ]
    }
   ],
   "source": [
    "import numpy as np\n",
    "\n",
    "AMF = [1, 13, 6]\n",
    "NAL = [14, 1, 12]\n",
    "\n",
    "first_matrix_2d = np.array([[1, 13, 6], [14, 1, 12]])\n",
    "print(first_matrix_2d.shape)\n",
    "print(first_matrix_2d.ndim)\n",
    "\n",
    "first_matrix = first_matrix_2d\n",
    "\n",
    "print('first_matrix')\n",
    "for row in first_matrix:\n",
    "    print(row)"
   ]
  },
  {
   "cell_type": "code",
   "execution_count": 2,
   "id": "ca628396-5ac1-469f-bef2-60967bad2565",
   "metadata": {},
   "outputs": [
    {
     "name": "stdout",
     "output_type": "stream",
     "text": [
      "(2, 3)\n",
      "2\n",
      "second_matrix\n",
      "[2 0 2]\n",
      "[1 4 7]\n"
     ]
    }
   ],
   "source": [
    "2023-4-0o147 == [2, 0, 2]\n",
    "2023-4-0o147 == [1, 4, 7]\n",
    "\n",
    "second_matrix_2d = np.array([[2, 0, 2], [1, 4, 7]])\n",
    "print(second_matrix_2d.shape)\n",
    "print(second_matrix_2d.ndim)\n",
    "\n",
    "second_matrix = second_matrix_2d\n",
    "\n",
    "print('second_matrix')\n",
    "for row in second_matrix:\n",
    "    print(row)"
   ]
  },
  {
   "cell_type": "code",
   "execution_count": 3,
   "id": "321c4627-6942-4293-8a47-7f3e2765c157",
   "metadata": {},
   "outputs": [
    {
     "name": "stdout",
     "output_type": "stream",
     "text": [
      "[[ 1 13  6]\n",
      " [14  1 12]]\n",
      "[[2 0 2]\n",
      " [1 4 7]]\n"
     ]
    }
   ],
   "source": [
    "print(first_matrix)\n",
    "print(second_matrix)"
   ]
  },
  {
   "cell_type": "code",
   "execution_count": 4,
   "id": "ed2c61d1-6d20-4bed-b9eb-7b2aee8301fb",
   "metadata": {},
   "outputs": [
    {
     "name": "stdout",
     "output_type": "stream",
     "text": [
      "third_matrix\n",
      "[ 3 13  8]\n",
      "[15  5 19]\n"
     ]
    }
   ],
   "source": [
    "array_first_matrix = np.array(first_matrix)\n",
    "array_second_matrix = np.array(second_matrix)\n",
    "\n",
    "third_matrix = (array_first_matrix + array_second_matrix)\n",
    "\n",
    "print('third_matrix')\n",
    "for row in third_matrix:\n",
    "    print(row)"
   ]
  },
  {
   "cell_type": "code",
   "execution_count": 5,
   "id": "e2691f94-28f8-4377-9884-31f73d1d1bfd",
   "metadata": {},
   "outputs": [
    {
     "name": "stdout",
     "output_type": "stream",
     "text": [
      "fourth_matrix\n",
      "[ 2 26 12]\n",
      "[28  2 24]\n"
     ]
    }
   ],
   "source": [
    "array_first_matrix = np.array(first_matrix)\n",
    "\n",
    "fourth_matrix = (array_first_matrix * 2)\n",
    "\n",
    "print('fourth_matrix')\n",
    "for row in fourth_matrix:\n",
    "    print(row)"
   ]
  },
  {
   "cell_type": "code",
   "execution_count": 6,
   "id": "1418f0c1-f487-4f00-aab7-7a3518bd5551",
   "metadata": {},
   "outputs": [
    {
     "name": "stdout",
     "output_type": "stream",
     "text": [
      "fifth_matrix\n",
      "[2 1]\n",
      "[0 4]\n",
      "[2 7]\n"
     ]
    }
   ],
   "source": [
    "second_matrix = np.array(second_matrix)\n",
    "second_matrix_T = second_matrix.T\n",
    "\n",
    "fifth_matrix = (second_matrix.T)\n",
    "\n",
    "print('fifth_matrix')\n",
    "for row in fifth_matrix:\n",
    "    print(row)"
   ]
  },
  {
   "cell_type": "code",
   "execution_count": 7,
   "id": "632bd798-5e4f-412d-bf7a-0f944dcdbcf5",
   "metadata": {},
   "outputs": [
    {
     "name": "stdout",
     "output_type": "stream",
     "text": [
      "third_matrix\n",
      "[ 3 15]\n",
      "[13  5]\n",
      "[ 8 19]\n"
     ]
    }
   ],
   "source": [
    "third_matrix = np.array(third_matrix)\n",
    "third_matrix_T = third_matrix.T\n",
    "\n",
    "third_matrix = (third_matrix.T)\n",
    "\n",
    "print('third_matrix')\n",
    "for row in third_matrix:\n",
    "    print(row)"
   ]
  },
  {
   "cell_type": "code",
   "execution_count": 8,
   "id": "ef359110-3598-4c25-81d1-df89825575e8",
   "metadata": {},
   "outputs": [
    {
     "name": "stdout",
     "output_type": "stream",
     "text": [
      "sixth_matrix\n",
      "[ 6 15]\n",
      "[ 0 20]\n",
      "[ 16 133]\n"
     ]
    }
   ],
   "source": [
    "array_third_matrix = np.array(third_matrix)\n",
    "array_fifth_matrix = np.array(fifth_matrix)\n",
    "\n",
    "sixth_matrix = (array_third_matrix * array_fifth_matrix)\n",
    "\n",
    "print('sixth_matrix')\n",
    "for row in sixth_matrix:\n",
    "    print(row)"
   ]
  },
  {
   "cell_type": "code",
   "execution_count": 9,
   "id": "b7367767-502f-40e7-8928-a8eb6094f97e",
   "metadata": {},
   "outputs": [
    {
     "name": "stdout",
     "output_type": "stream",
     "text": [
      "63\n"
     ]
    }
   ],
   "source": [
    "array_third_matrix = np.array(third_matrix)\n",
    "\n",
    "sum_third_matrix = np.sum(third_matrix)\n",
    "\n",
    "print(sum_third_matrix)"
   ]
  },
  {
   "cell_type": "code",
   "execution_count": 10,
   "id": "040b0afc-540c-4dbd-a1fc-7dde7ad0f120",
   "metadata": {},
   "outputs": [
    {
     "name": "stdout",
     "output_type": "stream",
     "text": [
      "seventh_matrix\n",
      "[0. 0. 0.]\n",
      "[0. 0. 0.]\n"
     ]
    }
   ],
   "source": [
    "seventh_matrix = np.zeros ((2, 3))\n",
    "\n",
    "print('seventh_matrix')\n",
    "for row in seventh_matrix:\n",
    "    print(row)"
   ]
  },
  {
   "cell_type": "code",
   "execution_count": null,
   "id": "d810c9fe-fa89-4aec-aca0-02e3ad2eae50",
   "metadata": {},
   "outputs": [],
   "source": []
  }
 ],
 "metadata": {
  "kernelspec": {
   "display_name": "Python 3 (ipykernel)",
   "language": "python",
   "name": "python3"
  },
  "language_info": {
   "codemirror_mode": {
    "name": "ipython",
    "version": 3
   },
   "file_extension": ".py",
   "mimetype": "text/x-python",
   "name": "python",
   "nbconvert_exporter": "python",
   "pygments_lexer": "ipython3",
   "version": "3.12.7"
  }
 },
 "nbformat": 4,
 "nbformat_minor": 5
}
